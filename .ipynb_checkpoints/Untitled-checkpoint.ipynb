{
 "cells": [
  {
   "cell_type": "markdown",
   "id": "5fb812bc",
   "metadata": {},
   "source": [
    "**Course** = BIL 470 Machine Learning<br/>\n",
    "**Term** = 2022 Summer<br/>\n",
    "**Name** = Mert Can GÖNEN<br/>\n",
    "**ID** = 181101039<br/>\n",
    "**The Content Selector for Disney Plus User**"
   ]
  },
  {
   "cell_type": "code",
   "execution_count": null,
   "id": "27048893",
   "metadata": {},
   "outputs": [],
   "source": []
  }
 ],
 "metadata": {
  "kernelspec": {
   "display_name": "Python 3 (ipykernel)",
   "language": "python",
   "name": "python3"
  },
  "language_info": {
   "codemirror_mode": {
    "name": "ipython",
    "version": 3
   },
   "file_extension": ".py",
   "mimetype": "text/x-python",
   "name": "python",
   "nbconvert_exporter": "python",
   "pygments_lexer": "ipython3",
   "version": "3.10.5"
  }
 },
 "nbformat": 4,
 "nbformat_minor": 5
}
